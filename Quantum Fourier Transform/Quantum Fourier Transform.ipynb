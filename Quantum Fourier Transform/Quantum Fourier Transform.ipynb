{
 "cells": [
  {
   "cell_type": "code",
   "execution_count": 1,
   "id": "a1ec595f",
   "metadata": {},
   "outputs": [],
   "source": [
    "import numpy as np\n",
    "import pennylane as qml"
   ]
  },
  {
   "cell_type": "markdown",
   "id": "b5dbe77a",
   "metadata": {},
   "source": [
    "### Codercise F.2.1 - The QFT for one qubit\n",
    "\n",
    "Implement the circuit that performs the single-qubit QFT operation, i.e., for ."
   ]
  },
  {
   "cell_type": "code",
   "execution_count": 2,
   "id": "a758a786",
   "metadata": {},
   "outputs": [],
   "source": [
    "num_wires = 1\n",
    "dev = qml.device(\"default.qubit\", wires=num_wires)\n",
    "\n",
    "@qml.qnode(dev)\n",
    "def one_qubit_QFT(basis_id):\n",
    "    \"\"\"A circuit that computes the QFT on a single qubit. \n",
    "    \n",
    "    Args:\n",
    "        basis_id (int): An integer value identifying \n",
    "            the basis state to construct.\n",
    "    \n",
    "    Returns:\n",
    "        array[complex]: The state of the qubit after applying QFT.\n",
    "    \"\"\"\n",
    "    # Prepare the basis state |basis_id>\n",
    "    bits = [int(x) for x in np.binary_repr(basis_id, width=num_wires)]\n",
    "    qml.BasisStatePreparation(bits, wires=[0])\n",
    "\n",
    "    qml.Hadamard(wires = 0)\n",
    "\n",
    "    return qml.state()"
   ]
  },
  {
   "cell_type": "markdown",
   "id": "71af2912",
   "metadata": {},
   "source": [
    "### Codercise F.2.2 - The QFT for two qubits\n",
    "\n",
    "Implement a circuit that performs the two-qubit QFT operation. First, derive the QFT matrix for $n = 2$. Then, use the qml.QubitUnitary operation to apply it."
   ]
  },
  {
   "cell_type": "code",
   "execution_count": 3,
   "id": "e73c8a00",
   "metadata": {},
   "outputs": [],
   "source": [
    "num_wires = 2\n",
    "dev = qml.device(\"default.qubit\", wires=num_wires)\n",
    "\n",
    "@qml.qnode(dev)\n",
    "def two_qubit_QFT(basis_id):\n",
    "    \"\"\"A circuit that computes the QFT on two qubits using qml.QubitUnitary. \n",
    "    \n",
    "    Args:\n",
    "        basis_id (int): An integer value identifying the basis state to construct.\n",
    "    \n",
    "    Returns:\n",
    "        array[complex]: The state of the qubits after the QFT operation.\n",
    "    \"\"\"\n",
    "    \n",
    "    # Prepare the basis state |basis_id>\n",
    "    bits = [int(x) for x in np.binary_repr(basis_id, width=num_wires)]\n",
    "    qml.BasisStatePreparation(bits, wires=[0, 1])\n",
    "    \n",
    "    U = (1 / 2) * np.array([[1, 1, 1, 1], [1, 1j, -1, -1j], [1, -1, 1, -1], [1, -1j, -1, 1j]])\n",
    "    qml.QubitUnitary(U, wires=[0, 1])\n",
    "    \n",
    "    return qml.state()"
   ]
  },
  {
   "cell_type": "markdown",
   "id": "2888b815",
   "metadata": {},
   "source": [
    "### Codercise F.2.3 - The QFT circuit\n",
    "\n",
    "Implement the two-qubit QFT using a combination of gates (without using qml.QubitUnitary)."
   ]
  },
  {
   "cell_type": "code",
   "execution_count": 4,
   "id": "e42306a7",
   "metadata": {},
   "outputs": [],
   "source": [
    "num_wires = 2\n",
    "dev = qml.device(\"default.qubit\", wires=num_wires)\n",
    "\n",
    "@qml.qnode(dev)\n",
    "def decompose_two_qubit_QFT(basis_id):\n",
    "    \"\"\"A circuit that computes the QFT on two qubits using elementary gates.\n",
    "    \n",
    "    Args:\n",
    "        basis_id (int): An integer value identifying the basis state to construct.\n",
    "    \n",
    "    Returns:\n",
    "        array[complex]: The state of the qubits after the QFT operation.\n",
    "    \"\"\"\n",
    "    # Prepare the basis state |basis_id>\n",
    "    bits = [int(x) for x in np.binary_repr(basis_id, width=num_wires)]\n",
    "    qml.BasisStatePreparation(bits, wires=[0, 1])\n",
    "    \n",
    "    qml.Hadamard(wires=0)\n",
    "    qml.ctrl(qml.S, control=1)(wires=0)\n",
    "    qml.Hadamard(wires=1)\n",
    "    qml.SWAP(wires=[0, 1])\n",
    "    \n",
    "    return qml.state()"
   ]
  }
 ],
 "metadata": {
  "kernelspec": {
   "display_name": "Python 3",
   "language": "python",
   "name": "python3"
  },
  "language_info": {
   "codemirror_mode": {
    "name": "ipython",
    "version": 3
   },
   "file_extension": ".py",
   "mimetype": "text/x-python",
   "name": "python",
   "nbconvert_exporter": "python",
   "pygments_lexer": "ipython3",
   "version": "3.8.8"
  }
 },
 "nbformat": 4,
 "nbformat_minor": 5
}
