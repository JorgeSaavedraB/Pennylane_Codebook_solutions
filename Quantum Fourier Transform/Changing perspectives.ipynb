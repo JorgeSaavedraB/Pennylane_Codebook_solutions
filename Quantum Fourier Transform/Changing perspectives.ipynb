{
 "cells": [
  {
   "cell_type": "code",
   "execution_count": 1,
   "id": "f076fce2",
   "metadata": {},
   "outputs": [],
   "source": [
    "import numpy as np\n",
    "import pennylane as qml"
   ]
  },
  {
   "cell_type": "markdown",
   "id": "078c15ee",
   "metadata": {},
   "source": [
    "### Codercise F.1.1 - Converting to value representation\n",
    "\n",
    "Given a polynomial in its coefficient representation, convert it into a value representation using NumPy's DFT/FFT module."
   ]
  },
  {
   "cell_type": "code",
   "execution_count": 2,
   "id": "8e2fec1e",
   "metadata": {},
   "outputs": [
    {
     "name": "stdout",
     "output_type": "stream",
     "text": [
      "[10.+0.j  2.-2.j  2.+0.j  2.+2.j]\n"
     ]
    }
   ],
   "source": [
    "def coefficients_to_values(coefficients):\n",
    "    \"\"\"Returns the value representation of a polynomial\n",
    "    \n",
    "    Args:\n",
    "        coefficients (array[complex]): a 1-D array of complex \n",
    "            coefficients of a polynomial with \n",
    "            index i representing the i-th degree coefficient\n",
    "\n",
    "    Returns: \n",
    "        array[complex]: the value representation of the \n",
    "            polynomial \n",
    "    \"\"\"\n",
    "\n",
    "    return np.fft.fftn(coefficients)        \n",
    "\n",
    "A = [4, 3, 2, 1]\n",
    "print(coefficients_to_values(A))"
   ]
  },
  {
   "cell_type": "markdown",
   "id": "232ca582",
   "metadata": {},
   "source": [
    "### Codercise F.1.2 - Coverting to coefficient representation\n",
    "\n",
    "Now, let's write a function to convert the polynomial's value representation back to the coefficient representation using the Inverse FFT. This is not difficult, because the DFT matrix is unitary, and thus invertible!\n",
    "\n",
    "Given a polynomial in its value representation, use the NumPy's DFT/FFT module to convert from the value representation to the coefficient representation."
   ]
  },
  {
   "cell_type": "code",
   "execution_count": 3,
   "id": "56c5607f",
   "metadata": {},
   "outputs": [
    {
     "name": "stdout",
     "output_type": "stream",
     "text": [
      "[4.+0.j 3.+0.j 2.+0.j 1.+0.j]\n"
     ]
    }
   ],
   "source": [
    "def values_to_coefficients(values):\n",
    "    \"\"\"Returns the coefficient representation of a polynomial\n",
    "    \n",
    "    Args:\n",
    "        values (array[complex]): a 1-D complex array with \n",
    "            the value representation of a polynomial \n",
    "\n",
    "    Returns: \n",
    "        array[complex]: a 1-D complex array of coefficients\n",
    "    \"\"\"\n",
    "    \n",
    "    return np.fft.ifftn(values)\n",
    "\n",
    "\n",
    "A = [10.+0.j,  2.-2.j,  2.+0.j,  2.+2.j]\n",
    "print(values_to_coefficients(A))"
   ]
  },
  {
   "cell_type": "markdown",
   "id": "59c40a13",
   "metadata": {},
   "source": [
    "### Codercise F.1.3 - The nearest power of 2\n",
    "\n",
    "Given two polynomials of degree  and degree , the product of the polynomials will have a degree of . We need to choose  points to get the value representation of the polynomial. In general, to keep things convenient, we choose  to be a power of . For example, if we have a resulting polynomial of degree , we would want to choose  points. For Numpy's DFT/FFT module, this is not a requirement, but we will choose the points in this way to keep calculations clean. First, let us implement a helper function that finds the nearest power of 2 greater than a given number. We will use this function in subsequent exercises.\n",
    "\n",
    "Implement a helper function nearest_power_of_2 that calculates a power of 2 that is greater than a given number."
   ]
  },
  {
   "cell_type": "code",
   "execution_count": 4,
   "id": "38a37d3a",
   "metadata": {},
   "outputs": [],
   "source": [
    "def nearest_power_of_2(x):\n",
    "    \"\"\"Given an integer, return the nearest power of 2. \n",
    "    \n",
    "    Args:\n",
    "        x (int): a positive integer\n",
    "\n",
    "    Returns: \n",
    "        int: the nearest power of 2 of x\n",
    "    \"\"\"\n",
    "    \n",
    "    return 2 ** int(np.ceil(np.log2(x)))"
   ]
  },
  {
   "cell_type": "markdown",
   "id": "8227aad1",
   "metadata": {},
   "source": [
    "### Codercise F.1.4 - Multiplying polynomials\n",
    "\n",
    "Given two polynomials in their coefficient representation, write a function to multiply them both using the functions coefficients_to_values, nearest_power_of_2, and values_to_coefficients."
   ]
  },
  {
   "cell_type": "code",
   "execution_count": 5,
   "id": "a16b8b28",
   "metadata": {},
   "outputs": [],
   "source": [
    "def fft_multiplication(poly_a, poly_b):\n",
    "    \"\"\"Returns the result of multiplying two polynomials\n",
    "    \n",
    "    Args:\n",
    "        poly_a (array[complex]): 1-D array of coefficients \n",
    "        poly_b (array[complex]): 1-D array of coefficients \n",
    "\n",
    "    Returns: \n",
    "        array[complex]: complex coefficients of the product\n",
    "            of the polynomials\n",
    "    \"\"\"\n",
    "\n",
    "    # Calculate the number of values required\n",
    "    val_req = (len(poly_a) - 1) + (len(poly_b) - 1) + 1\n",
    "\n",
    "    # Figure out the nearest power of 2\n",
    "    near_pow2 = nearest_power_of_2(val_req)\n",
    "\n",
    "    # Pad zeros to the polynomial\n",
    "    while len(poly_a) < near_pow2:\n",
    "        poly_a.append(0.0)\n",
    "    while len(poly_b) < near_pow2:\n",
    "        poly_b.append(0.0)\n",
    "\n",
    "    # Convert the polynomials to value representation \n",
    "    val_rep_a = coefficients_to_values(poly_a)\n",
    "    val_rep_b = coefficients_to_values(poly_b)\n",
    "\n",
    "    # Multiply\n",
    "    val_rep_c = val_rep_a * val_rep_b\n",
    "\n",
    "    # Convert back to coefficient representation\n",
    "    return values_to_coefficients(val_rep_c)"
   ]
  },
  {
   "cell_type": "code",
   "execution_count": 6,
   "id": "5129db93",
   "metadata": {},
   "outputs": [
    {
     "name": "stdout",
     "output_type": "stream",
     "text": [
      "A:  [1, 1]\n",
      "B:  [1, -1]\n",
      "A * B:  [ 1.+0.j  0.+0.j -1.+0.j  0.+0.j]\n"
     ]
    }
   ],
   "source": [
    "A = [1, 1]\n",
    "B = [1, -1]\n",
    "print('A: ', A)\n",
    "print('B: ', B)\n",
    "print('A * B: ', fft_multiplication(A, B))"
   ]
  }
 ],
 "metadata": {
  "kernelspec": {
   "display_name": "Python 3",
   "language": "python",
   "name": "python3"
  },
  "language_info": {
   "codemirror_mode": {
    "name": "ipython",
    "version": 3
   },
   "file_extension": ".py",
   "mimetype": "text/x-python",
   "name": "python",
   "nbconvert_exporter": "python",
   "pygments_lexer": "ipython3",
   "version": "3.8.8"
  }
 },
 "nbformat": 4,
 "nbformat_minor": 5
}
