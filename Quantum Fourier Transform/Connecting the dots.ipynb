{
 "cells": [
  {
   "cell_type": "code",
   "execution_count": 2,
   "id": "6de84cb8",
   "metadata": {},
   "outputs": [],
   "source": [
    "import numpy as np \n",
    "import pennylane as qml"
   ]
  },
  {
   "cell_type": "markdown",
   "id": "56c83890",
   "metadata": {},
   "source": [
    "### Codercise F.3.1 - The 3-qubit QFT\n",
    "\n",
    "Implement the QFT for three qubits."
   ]
  },
  {
   "cell_type": "code",
   "execution_count": null,
   "id": "6f2bb15c",
   "metadata": {},
   "outputs": [],
   "source": [
    "num_wires = 3\n",
    "dev = qml.device(\"default.qubit\", wires = num_wires)\n",
    "\n",
    "@qml.qnode(dev)\n",
    "def three_qubit_QFT(basis_id):\n",
    "    \"\"\"A circuit that computes the QFT on three qubits.\n",
    "    \n",
    "    Args:\n",
    "        basis_id (int): An integer value identifying the basis state to construct.\n",
    "        \n",
    "    Returns:\n",
    "        array[complex]: The state of the qubits after the QFT operation.\n",
    "    \"\"\"\n",
    "    # Prepare the basis state |basis_id>\n",
    "    bits = [int(x) for x in np.binary_repr(basis_id, width = num_wires)]\n",
    "    qml.BasisStatePreparation(bits, wires=[0, 1, 2])\n",
    "    \n",
    "    qml.Hadamard(wires = 0)\n",
    "    qml.ctrl(qml.S(wires = 0), control = 1)\n",
    "    qml.ctrl(qml.T(wires = 0), control = 2)\n",
    "\n",
    "    qml.Hadamard(wires = 1)\n",
    "    qml.ctrl(qml.S(wires = 1), control = 2)\n",
    "\n",
    "    qml.Hadamard(wires = 2)\n",
    "\n",
    "    qml.SWAP(wires = [0, 2])\n",
    "    \n",
    "    return qml.state()"
   ]
  },
  {
   "cell_type": "markdown",
   "id": "31c7415e",
   "metadata": {},
   "source": [
    "### Codercise F.3.2 - Swapping qubits\n",
    "\n",
    "Implement a circuit that reverses the order of $n$ qubits using SWAP gates. You need only $n/2$ gates for this."
   ]
  },
  {
   "cell_type": "code",
   "execution_count": null,
   "id": "13f77bb1",
   "metadata": {},
   "outputs": [],
   "source": [
    "dev = qml.device('default.qubit', wires=4)\n",
    "\n",
    "            \n",
    "def swap_bits(n_qubits):\n",
    "    \"\"\"A circuit that reverses the order of qubits, i.e.,\n",
    "    performs a SWAP such that [q1, q2, ..., qn] -> [qn, ... q2, q1].\n",
    "    \n",
    "    Args:\n",
    "        n_qubits (int): An integer value identifying the number of qubits.\n",
    "    \"\"\"\n",
    "    for i in range(int(n_qubits / 2)):\n",
    "        qml.SWAP(wires=[i, n_qubits - 1 - i])\n",
    "\n",
    "@qml.qnode(dev) \n",
    "def qft_node(basis_id, n_qubits):\n",
    "    # Prepare the basis state |basis_id>\n",
    "    bits = [int(x) for x in np.binary_repr(basis_id, width = n_qubits)]\n",
    "    qml.BasisStatePreparation(bits, wires = range(n_qubits))\n",
    "    # qft_rotations(n_qubits)\n",
    "    swap_bits(n_qubits)\n",
    "    return qml.state()"
   ]
  },
  {
   "cell_type": "markdown",
   "id": "29d80055",
   "metadata": {},
   "source": [
    "### Codercise F.3.3 - Putting the QFT together\n",
    "\n",
    "Implement the circuit that performs the Hadamards and controlled rotations on $n$ qubits using qml.ControlledPhaseShift. The swap_bits operation defined in the exercise above is available to use. The result is the $n$-qubit QFT!"
   ]
  },
  {
   "cell_type": "code",
   "execution_count": null,
   "id": "ec6f80a1",
   "metadata": {},
   "outputs": [],
   "source": [
    "dev = qml.device('default.qubit', wires=4)\n",
    "\n",
    "def qft_rotations(n_qubits):\n",
    "    \"\"\"A circuit performs the QFT rotations on the specified qubits.\n",
    "    \n",
    "    Args:\n",
    "        n_qubits (int): An integer value identifying the number of qubits.\n",
    "    \"\"\"\n",
    "    n = 0\n",
    "    for i in range(n_qubits):\n",
    "        qml.Hadamard(wires = n)\n",
    "        for k in range(1, n_qubits - n):\n",
    "            qml.ControlledPhaseShift(np.pi / 2 ** k, wires = [n, n + k])\n",
    "        n += 1\n",
    "\n",
    "@qml.qnode(dev) \n",
    "def qft_node(basis_id, n_qubits):\n",
    "    # Prepare the basis state |basis_id>\n",
    "    bits = [int(x) for x in np.binary_repr(basis_id, width = n_qubits)]\n",
    "    qml.BasisStatePreparation(bits, wires = range(n_qubits))\n",
    "    qft_rotations(n_qubits)\n",
    "    swap_bits(n_qubits)\n",
    "    return qml.state()"
   ]
  },
  {
   "cell_type": "markdown",
   "id": "146e93b0",
   "metadata": {},
   "source": [
    "### Codercise F.3.4 - A recursive solution\n",
    "\n",
    "Implement the circuit that performs the Hadamard operations and controlled rotations on  qubits recursively. The swap_bits operation defined earlier is available for you."
   ]
  },
  {
   "cell_type": "code",
   "execution_count": null,
   "id": "002ae1c1",
   "metadata": {},
   "outputs": [],
   "source": [
    "dev = qml.device('default.qubit', wires = 4)\n",
    "\n",
    "def qft_recursive_rotations(n_qubits, wire = 0):\n",
    "    \"\"\"A circuit that performs the QFT rotations on the specified qubits\n",
    "        recursively.\n",
    "        \n",
    "    Args:\n",
    "        n_qubits (int): An integer value identifying the number of qubits.\n",
    "        wire (int): An integer identifying the wire \n",
    "                    (or the qubit) to apply rotations on.\n",
    "    \"\"\"\n",
    "    qml.Hadamard(wires = wire)\n",
    "    for k in range(1, n_qubits):\n",
    "        qml.ControlledPhaseShift(np.pi / 2 ** k, wires = [wire, wire + k])\n",
    "        \n",
    "    n_qubits -= 1\n",
    "    wire += 1\n",
    "    \n",
    "    if n_qubits == 1:\n",
    "        return qml.Hadamard(wires = wire)\n",
    "    else:\n",
    "        return qft_recursive_rotations(n_qubits, wire)\n",
    "\n",
    "@qml.qnode(dev) \n",
    "def qft_node(basis_id, n_qubits):\n",
    "    # Prepare the basis state |basis_id>\n",
    "    bits = [int(x) for x in np.binary_repr(basis_id, width = n_qubits)]\n",
    "    qml.BasisStatePreparation(bits, wires = range(n_qubits))\n",
    "    qft_recursive_rotations(n_qubits)\n",
    "    swap_bits(n_qubits)\n",
    "    return qml.state()"
   ]
  },
  {
   "cell_type": "markdown",
   "id": "03b478f5",
   "metadata": {},
   "source": [
    "### Codercise F.3.5 - The QFT in PennyLane\n",
    "\n",
    "Implement the QFT using qml.QFT."
   ]
  },
  {
   "cell_type": "code",
   "execution_count": null,
   "id": "763a992c",
   "metadata": {},
   "outputs": [],
   "source": [
    "dev = qml.device('default.qubit', wires = 4)\n",
    "\n",
    "@qml.qnode(dev)\n",
    "def pennylane_qft(basis_id, n_qubits):\n",
    "    \"\"\"A that circuit performs the QFT using PennyLane's QFT template.\n",
    "    \n",
    "    Args:\n",
    "        basis_id (int): An integer value identifying \n",
    "            the basis state to construct.\n",
    "        n_qubits (int): An integer identifying the \n",
    "            number of qubits.\n",
    "            \n",
    "    Returns:\n",
    "        array[complex]: The state after applying the QFT to the qubits.\n",
    "    \"\"\"\n",
    "    # Prepare the basis state |basis_id>\n",
    "    bits = [int(x) for x in np.binary_repr(basis_id, width = n_qubits)]\n",
    "    qml.BasisStatePreparation(bits, wires = range(n_qubits))\n",
    "\n",
    "    qml.QFT(wires = [wire for wire in range(n_qubits)])\n",
    "\n",
    "    return qml.state()"
   ]
  }
 ],
 "metadata": {
  "kernelspec": {
   "display_name": "Python 3",
   "language": "python",
   "name": "python3"
  },
  "language_info": {
   "codemirror_mode": {
    "name": "ipython",
    "version": 3
   },
   "file_extension": ".py",
   "mimetype": "text/x-python",
   "name": "python",
   "nbconvert_exporter": "python",
   "pygments_lexer": "ipython3",
   "version": "3.8.8"
  }
 },
 "nbformat": 4,
 "nbformat_minor": 5
}
